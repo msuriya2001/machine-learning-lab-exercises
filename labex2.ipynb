{
  "nbformat": 4,
  "nbformat_minor": 0,
  "metadata": {
    "colab": {
      "name": "labex2.ipynb",
      "provenance": [],
      "collapsed_sections": [],
      "authorship_tag": "ABX9TyPoNNHj/IJYtULaWw/5Pxq0",
      "include_colab_link": true
    },
    "kernelspec": {
      "name": "python3",
      "display_name": "Python 3"
    },
    "language_info": {
      "name": "python"
    },
    "accelerator": "GPU"
  },
  "cells": [
    {
      "cell_type": "markdown",
      "metadata": {
        "id": "view-in-github",
        "colab_type": "text"
      },
      "source": [
        "<a href=\"https://colab.research.google.com/github/msuriya2001/machine-learning-lab-exercises/blob/main/labex2.ipynb\" target=\"_parent\"><img src=\"https://colab.research.google.com/assets/colab-badge.svg\" alt=\"Open In Colab\"/></a>"
      ]
    },
    {
      "cell_type": "code",
      "execution_count": 1,
      "metadata": {
        "id": "ZN3pTWWOEPPG"
      },
      "outputs": [],
      "source": [
        "import tensorflow as tf \n",
        "import pandas as pd \n",
        "import numpy as np \n",
        "import matplotlib.pyplot as plt\n",
        "import os"
      ]
    },
    {
      "cell_type": "code",
      "source": [
        "dataset = tf.keras.utils.get_file(\n",
        "    \"image_data\",\" https://data.vision.ee.ethz.ch/cvl/rrothe/imdb-wiki/static/wiki_crop.tar\",\n",
        "    untar = True\n",
        ")\n"
      ],
      "metadata": {
        "id": "t1EOcxifGOXs"
      },
      "execution_count": 2,
      "outputs": []
    },
    {
      "cell_type": "code",
      "source": [
        "os.path.dirname(dataset)"
      ],
      "metadata": {
        "colab": {
          "base_uri": "https://localhost:8080/",
          "height": 36
        },
        "id": "MOHVDDAPHk2d",
        "outputId": "849ee5cb-5413-4947-a239-cbd16a8b2af8"
      },
      "execution_count": 3,
      "outputs": [
        {
          "output_type": "execute_result",
          "data": {
            "text/plain": [
              "'/root/.keras/datasets'"
            ],
            "application/vnd.google.colaboratory.intrinsic+json": {
              "type": "string"
            }
          },
          "metadata": {},
          "execution_count": 3
        }
      ]
    },
    {
      "cell_type": "code",
      "source": [
        "dataset_dir = os.path.join(os.path.dirname(dataset), 'wiki_crop')\n"
      ],
      "metadata": {
        "id": "GYaWozVUGYhH"
      },
      "execution_count": 4,
      "outputs": []
    },
    {
      "cell_type": "code",
      "source": [
        "import scipy.io\n",
        "# extract data from wiki.mat\n",
        "mat = scipy.io.loadmat(os.path.join(dataset_dir,'wiki.mat'))"
      ],
      "metadata": {
        "id": "YUOh2FIjGtSB"
      },
      "execution_count": 5,
      "outputs": []
    },
    {
      "cell_type": "code",
      "source": [
        "mat \n"
      ],
      "metadata": {
        "colab": {
          "base_uri": "https://localhost:8080/"
        },
        "id": "_q49pqE_HzhZ",
        "outputId": "f8ade718-20d3-4e0a-dd43-866020d5d4a9"
      },
      "execution_count": 6,
      "outputs": [
        {
          "output_type": "execute_result",
          "data": {
            "text/plain": [
              "{'__globals__': [],\n",
              " '__header__': b'MATLAB 5.0 MAT-file, Platform: GLNXA64, Created on: Sat Jan 16 16:25:20 2016',\n",
              " '__version__': '1.0',\n",
              " 'wiki': array([[(array([[723671, 703186, 711677, ..., 720620, 723893, 713846]], dtype=int32), array([[2009, 1964, 2008, ..., 2013, 2011, 2008]], dtype=uint16), array([[array(['17/10000217_1981-05-05_2009.jpg'], dtype='<U31'),\n",
              "                 array(['48/10000548_1925-04-04_1964.jpg'], dtype='<U31'),\n",
              "                 array(['12/100012_1948-07-03_2008.jpg'], dtype='<U29'), ...,\n",
              "                 array(['09/9998109_1972-12-27_2013.jpg'], dtype='<U30'),\n",
              "                 array(['00/9999400_1981-12-13_2011.jpg'], dtype='<U30'),\n",
              "                 array(['80/999980_1954-06-11_2008.jpg'], dtype='<U29')]],\n",
              "               dtype=object), array([[1., 1., 1., ..., 1., 1., 0.]]), array([[array(['Sami Jauhojärvi'], dtype='<U15'),\n",
              "                 array(['Dettmar Cramer'], dtype='<U14'),\n",
              "                 array(['Marc Okrand'], dtype='<U11'), ...,\n",
              "                 array(['Michael Wiesinger'], dtype='<U17'),\n",
              "                 array(['Johann Grugger'], dtype='<U14'),\n",
              "                 array(['Greta Van Susteren'], dtype='<U18')]], dtype=object), array([[array([[111.29109473, 111.29109473, 252.66993082, 252.66993082]]),\n",
              "                 array([[252.4833023 , 126.68165115, 354.53192596, 228.73027481]]),\n",
              "                 array([[113.52, 169.84, 366.08, 422.4 ]]), ...,\n",
              "                 array([[169.88839786,  74.31669472, 235.2534231 , 139.68171997]]),\n",
              "                 array([[1, 1, 1, 1]], dtype=uint8),\n",
              "                 array([[ 92.72633235,  62.0435549 , 230.12083087, 199.43805342]])]],\n",
              "               dtype=object), array([[4.30096239, 2.6456395 , 4.32932883, ..., 3.49430317,       -inf,\n",
              "                 5.48691655]]), array([[       nan, 1.94924791,        nan, ...,        nan,        nan,\n",
              "                        nan]]))                                                                                                                                                                                           ]],\n",
              "       dtype=[('dob', 'O'), ('photo_taken', 'O'), ('full_path', 'O'), ('gender', 'O'), ('name', 'O'), ('face_location', 'O'), ('face_score', 'O'), ('second_face_score', 'O')])}"
            ]
          },
          "metadata": {},
          "execution_count": 6
        }
      ]
    },
    {
      "cell_type": "code",
      "source": [
        "gender = mat[\"wiki\"][\"gender\"][0][0][0]\n",
        "\n",
        "# gender = np.array(gender)\n",
        "# nan_indices = np.where(gender == \"nan\")\n",
        "# nan_indices \n",
        "# for i in range(400, 450):\n",
        "#     print(gender[i])\n",
        "\n",
        "index = np.where(np.isnan(gender) == False)[0]\n",
        "gender = mat[\"wiki\"][\"gender\"][0][0][0][index]\n",
        "gender "
      ],
      "metadata": {
        "id": "x_ttjOPyH8xK",
        "colab": {
          "base_uri": "https://localhost:8080/"
        },
        "outputId": "a06ec118-025c-462e-bfbf-5e8fde94eec0"
      },
      "execution_count": 30,
      "outputs": [
        {
          "output_type": "execute_result",
          "data": {
            "text/plain": [
              "array([1., 1., 1., ..., 1., 1., 0.])"
            ]
          },
          "metadata": {},
          "execution_count": 30
        }
      ]
    },
    {
      "cell_type": "code",
      "source": [
        "file_path =list( map(lambda x: os.path.join(dataset_dir, x[0]), mat[\"wiki\"][\"full_path\"][0][0][0][index]))\n"
      ],
      "metadata": {
        "id": "xLaQEWmxI-1v"
      },
      "execution_count": 31,
      "outputs": []
    },
    {
      "cell_type": "code",
      "source": [
        "from sklearn.model_selection import train_test_split\n"
      ],
      "metadata": {
        "id": "A6kY69BNS9Q8"
      },
      "execution_count": 32,
      "outputs": []
    },
    {
      "cell_type": "code",
      "source": [
        "file_age_ds = tf.data.Dataset.from_tensor_slices((file_path,gender))\n",
        "x_train, x_test, y_train, y_test = train_test_split(file_path, gender, test_size = 0.2)\n",
        "\n",
        "x_train, x_val, y_train, y_val = train_test_split(x_train, y_train, train_size = 0.9)"
      ],
      "metadata": {
        "id": "9NafizVjJtbu"
      },
      "execution_count": 33,
      "outputs": []
    },
    {
      "cell_type": "code",
      "source": [
        "train_ds = tf.data.Dataset.from_tensor_slices((x_train, y_train))\n",
        "test_ds = tf.data.Dataset.from_tensor_slices((x_test, y_test))\n",
        "val_ds = tf.data.Dataset.from_tensor_slices((x_val, y_val))"
      ],
      "metadata": {
        "id": "MGmn6w5BPwfc"
      },
      "execution_count": 34,
      "outputs": []
    },
    {
      "cell_type": "code",
      "source": [
        "def parse_function(filename, label):\n",
        "    image_string = tf.io.read_file(filename)\n",
        "    image_decoded = tf.io.decode_jpeg(image_string,channels=1)\n",
        "    image = tf.image.resize(image_decoded, [256, 256])\n",
        "    return image, tf.expand_dims(label,0)"
      ],
      "metadata": {
        "id": "D25zQ1Dacukd"
      },
      "execution_count": 35,
      "outputs": []
    },
    {
      "cell_type": "code",
      "source": [
        "#ds_train = ds_train.filter(lambda image: image.shape[0] >= 256)"
      ],
      "metadata": {
        "id": "pJOQr3aeyKeb"
      },
      "execution_count": 36,
      "outputs": []
    },
    {
      "cell_type": "code",
      "source": [
        "train_ds = train_ds.map(parse_function)\n",
        "test_ds = test_ds.map(parse_function)\n",
        "val_ds = val_ds.map(parse_function)"
      ],
      "metadata": {
        "id": "4iHcMSzqUseC"
      },
      "execution_count": 37,
      "outputs": []
    },
    {
      "cell_type": "code",
      "source": [
        "train_ds = train_ds.batch(256)\n",
        "test_ds = test_ds.batch(256)\n",
        "val_ds = val_ds.batch(256)"
      ],
      "metadata": {
        "id": "JghoF1K4dFNm"
      },
      "execution_count": 38,
      "outputs": []
    },
    {
      "cell_type": "code",
      "source": [
        "import tensorflow.keras.layers as tfl\n"
      ],
      "metadata": {
        "id": "ioV796pUjSZR"
      },
      "execution_count": null,
      "outputs": []
    },
    {
      "cell_type": "code",
      "source": [
        "model = tf.keras.Sequential([\n",
        "    tfl.Conv2D(32,(5,5),padding=\"same\",activation=\"relu\",input_shape=(256,256,1)),\n",
        "    tfl.MaxPool2D((4,4),strides = 2),\n",
        "    tfl.Conv2D(32,(5,5),padding = \"valid\",activation=\"relu\"),\n",
        "    tfl.MaxPool2D((4,4),strides = 4),\n",
        "    tfl.Conv2D(64,(5,5),padding = \"valid\",activation=\"relu\"),\n",
        "    tfl.MaxPool2D((4,4),strides = 4),\n",
        "    tfl.Conv2D(128,(3,3),padding= \"valid\",activation=\"relu\",),\n",
        "    tfl.MaxPool2D((2,2),strides = 2),\n",
        "    tfl.Conv2D(256, (1,1), padding = \"valid\", activation = \"relu\"),\n",
        "    tfl.MaxPool2D((2,2), strides = 2),\n",
        "    tfl.Flatten(),\n",
        "    tfl.Dense(64,activation=\"relu\"),\n",
        "    tfl.Dense(1)                             \n",
        "])"
      ],
      "metadata": {
        "id": "niIDw_q2gVCC"
      },
      "execution_count": null,
      "outputs": []
    },
    {
      "cell_type": "code",
      "source": [
        "model.summary()"
      ],
      "metadata": {
        "colab": {
          "base_uri": "https://localhost:8080/"
        },
        "id": "i1wwT9GzjayR",
        "outputId": "e9d7028b-000c-46e5-a845-cc8bdc309760"
      },
      "execution_count": 40,
      "outputs": [
        {
          "output_type": "stream",
          "name": "stdout",
          "text": [
            "Model: \"sequential_1\"\n",
            "_________________________________________________________________\n",
            " Layer (type)                Output Shape              Param #   \n",
            "=================================================================\n",
            " conv2d_5 (Conv2D)           (None, 256, 256, 32)      832       \n",
            "                                                                 \n",
            " max_pooling2d_5 (MaxPooling  (None, 127, 127, 32)     0         \n",
            " 2D)                                                             \n",
            "                                                                 \n",
            " conv2d_6 (Conv2D)           (None, 123, 123, 32)      25632     \n",
            "                                                                 \n",
            " max_pooling2d_6 (MaxPooling  (None, 30, 30, 32)       0         \n",
            " 2D)                                                             \n",
            "                                                                 \n",
            " conv2d_7 (Conv2D)           (None, 26, 26, 64)        51264     \n",
            "                                                                 \n",
            " max_pooling2d_7 (MaxPooling  (None, 6, 6, 64)         0         \n",
            " 2D)                                                             \n",
            "                                                                 \n",
            " conv2d_8 (Conv2D)           (None, 4, 4, 128)         73856     \n",
            "                                                                 \n",
            " max_pooling2d_8 (MaxPooling  (None, 2, 2, 128)        0         \n",
            " 2D)                                                             \n",
            "                                                                 \n",
            " conv2d_9 (Conv2D)           (None, 2, 2, 256)         33024     \n",
            "                                                                 \n",
            " max_pooling2d_9 (MaxPooling  (None, 1, 1, 256)        0         \n",
            " 2D)                                                             \n",
            "                                                                 \n",
            " flatten_1 (Flatten)         (None, 256)               0         \n",
            "                                                                 \n",
            " dense_2 (Dense)             (None, 64)                16448     \n",
            "                                                                 \n",
            " dense_3 (Dense)             (None, 1)                 65        \n",
            "                                                                 \n",
            "=================================================================\n",
            "Total params: 201,121\n",
            "Trainable params: 201,121\n",
            "Non-trainable params: 0\n",
            "_________________________________________________________________\n"
          ]
        }
      ]
    },
    {
      "cell_type": "code",
      "source": [
        "model.compile(\n",
        "    optimizer='adam',\n",
        "    loss=tf.keras.losses.MeanAbsoluteError(),\n",
        "    metrics=['MAE']\n",
        ")"
      ],
      "metadata": {
        "id": "N9W0ViHDjcYw"
      },
      "execution_count": 41,
      "outputs": []
    },
    {
      "cell_type": "code",
      "source": [
        "history = model.fit(\n",
        "    train_ds,\n",
        "    validation_data=val_ds,\n",
        "    epochs=10)"
      ],
      "metadata": {
        "colab": {
          "base_uri": "https://localhost:8080/"
        },
        "id": "lIGkq9Egjrho",
        "outputId": "08b6e057-32c8-4d4e-8860-360fb42b4f7d"
      },
      "execution_count": 42,
      "outputs": [
        {
          "output_type": "stream",
          "name": "stdout",
          "text": [
            "Epoch 1/10\n",
            "168/168 [==============================] - 71s 394ms/step - loss: 0.5125 - MAE: 0.5125 - val_loss: 0.2439 - val_MAE: 0.2439\n",
            "Epoch 2/10\n",
            "168/168 [==============================] - 61s 362ms/step - loss: 0.2245 - MAE: 0.2245 - val_loss: 0.2168 - val_MAE: 0.2168\n",
            "Epoch 3/10\n",
            "168/168 [==============================] - 61s 362ms/step - loss: 0.2164 - MAE: 0.2164 - val_loss: 0.2157 - val_MAE: 0.2157\n",
            "Epoch 4/10\n",
            "168/168 [==============================] - 61s 362ms/step - loss: 0.2154 - MAE: 0.2154 - val_loss: 0.2133 - val_MAE: 0.2133\n",
            "Epoch 5/10\n",
            "168/168 [==============================] - 61s 360ms/step - loss: 0.2177 - MAE: 0.2177 - val_loss: 0.2126 - val_MAE: 0.2126\n",
            "Epoch 6/10\n",
            "168/168 [==============================] - 61s 359ms/step - loss: 0.2172 - MAE: 0.2172 - val_loss: 0.2144 - val_MAE: 0.2144\n",
            "Epoch 7/10\n",
            "168/168 [==============================] - 61s 360ms/step - loss: 0.2153 - MAE: 0.2153 - val_loss: 0.2134 - val_MAE: 0.2134\n",
            "Epoch 8/10\n",
            "168/168 [==============================] - 61s 359ms/step - loss: 0.2155 - MAE: 0.2155 - val_loss: 0.2154 - val_MAE: 0.2154\n",
            "Epoch 9/10\n",
            "168/168 [==============================] - 61s 360ms/step - loss: 0.2157 - MAE: 0.2157 - val_loss: 0.2181 - val_MAE: 0.2181\n",
            "Epoch 10/10\n",
            "168/168 [==============================] - 61s 360ms/step - loss: 0.2156 - MAE: 0.2156 - val_loss: 0.2169 - val_MAE: 0.2169\n"
          ]
        }
      ]
    },
    {
      "cell_type": "code",
      "source": [
        "history  = history.history"
      ],
      "metadata": {
        "id": "oRmTxYjGjudA"
      },
      "execution_count": 43,
      "outputs": []
    },
    {
      "cell_type": "code",
      "source": [
        "history.keys()"
      ],
      "metadata": {
        "colab": {
          "base_uri": "https://localhost:8080/"
        },
        "id": "PABLAT6WIRjX",
        "outputId": "929ec439-4201-41a0-feaa-257aa082f7bd"
      },
      "execution_count": 45,
      "outputs": [
        {
          "output_type": "execute_result",
          "data": {
            "text/plain": [
              "dict_keys(['loss', 'MAE', 'val_loss', 'val_MAE'])"
            ]
          },
          "metadata": {},
          "execution_count": 45
        }
      ]
    },
    {
      "cell_type": "code",
      "source": [
        "plt.figure(figsize=(15,5))\n",
        "plt.subplot(121)\n",
        "plt.title(\"loss\")\n",
        "plt.plot(history[\"loss\"],label=\"loss\")\n",
        "plt.plot(history[\"val_loss\"],label=\"val loss\")\n",
        "plt.legend()\n",
        "\n",
        "plt.subplot(122)\n",
        "plt.title(\"MAE\")\n",
        "plt.plot(history[\"MAE\"],label=\"MAE\")\n",
        "plt.plot(history[\"val_loss\"],label=\"val loss\")\n",
        "plt.legend()\n",
        "\n",
        "plt.show()"
      ],
      "metadata": {
        "colab": {
          "base_uri": "https://localhost:8080/",
          "height": 336
        },
        "id": "AW4_rqFnBOdk",
        "outputId": "2c1888e6-a410-475e-b0a9-2ce5144fc56a"
      },
      "execution_count": 48,
      "outputs": [
        {
          "output_type": "display_data",
          "data": {
            "text/plain": [
              "<Figure size 1080x360 with 2 Axes>"
            ],
            "image/png": "[encoded data removed]"
          },
          "metadata": {
            "needs_background": "light"
          }
        }
      ]
    },
    {
      "cell_type": "code",
      "source": [
        ""
      ],
      "metadata": {
        "id": "fhtwoxtiIPIG"
      },
      "execution_count": null,
      "outputs": []
    }
  ]
}