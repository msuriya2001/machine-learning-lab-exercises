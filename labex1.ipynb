{
  "nbformat": 4,
  "nbformat_minor": 0,
  "metadata": {
    "colab": {
      "name": "labex1.ipynb",
      "provenance": [],
      "collapsed_sections": [],
      "authorship_tag": "ABX9TyPh8LUoGt1yZoaUBIQRXsH4",
      "include_colab_link": true
    },
    "kernelspec": {
      "name": "python3",
      "display_name": "Python 3"
    },
    "language_info": {
      "name": "python"
    }
  },
  "cells": [
    {
      "cell_type": "markdown",
      "metadata": {
        "id": "view-in-github",
        "colab_type": "text"
      },
      "source": [
        "<a href=\"https://colab.research.google.com/github/msuriya2001/machine-learning-lab-exercises/blob/main/labex1.ipynb\" target=\"_parent\"><img src=\"https://colab.research.google.com/assets/colab-badge.svg\" alt=\"Open In Colab\"/></a>"
      ]
    },
    {
      "cell_type": "code",
      "execution_count": 1,
      "metadata": {
        "id": "vnJgmGFgon1O"
      },
      "outputs": [],
      "source": [
        "import tensorflow as tf \n",
        "import pandas as pd\n",
        "import matplotlib.pyplot as plt \n",
        "import numpy as np "
      ]
    },
    {
      "cell_type": "code",
      "source": [
        "!wget \"https://archive.ics.uci.edu/ml/machine-learning-databases/00602/DryBeanDataset.zip\""
      ],
      "metadata": {
        "colab": {
          "base_uri": "https://localhost:8080/"
        },
        "id": "Z4glSYy6or9c",
        "outputId": "e8819aae-7961-4a8f-c7ef-f18ce2d6c310"
      },
      "execution_count": 25,
      "outputs": [
        {
          "output_type": "stream",
          "name": "stdout",
          "text": [
            "--2022-06-10 17:42:48--  https://archive.ics.uci.edu/ml/machine-learning-databases/00602/DryBeanDataset.zip\n",
            "Resolving archive.ics.uci.edu (archive.ics.uci.edu)... 128.195.10.252\n",
            "Connecting to archive.ics.uci.edu (archive.ics.uci.edu)|128.195.10.252|:443... connected.\n",
            "HTTP request sent, awaiting response... 200 OK\n",
            "Length: 4738776 (4.5M) [application/x-httpd-php]\n",
            "Saving to: ‘DryBeanDataset.zip’\n",
            "\n",
            "DryBeanDataset.zip  100%[===================>]   4.52M  3.73MB/s    in 1.2s    \n",
            "\n",
            "2022-06-10 17:42:50 (3.73 MB/s) - ‘DryBeanDataset.zip’ saved [4738776/4738776]\n",
            "\n"
          ]
        }
      ]
    },
    {
      "cell_type": "code",
      "source": [
        "!unzip \"DryBeanDataset.zip\""
      ],
      "metadata": {
        "colab": {
          "base_uri": "https://localhost:8080/"
        },
        "id": "zMyW-asbo6wj",
        "outputId": "b539f78d-ae78-43c1-fb45-efa42180566f"
      },
      "execution_count": 26,
      "outputs": [
        {
          "output_type": "stream",
          "name": "stdout",
          "text": [
            "Archive:  DryBeanDataset.zip\n",
            "   creating: DryBeanDataset/\n",
            "  inflating: DryBeanDataset/Dry_Bean_Dataset.arff  \n",
            "  inflating: DryBeanDataset/Dry_Bean_Dataset.txt  \n",
            "  inflating: DryBeanDataset/Dry_Bean_Dataset.xlsx  \n"
          ]
        }
      ]
    },
    {
      "cell_type": "code",
      "source": [
        "import os\n",
        "data_path = os.path.join(\"/content/DryBeanDataset\",os.listdir(\"DryBeanDataset\")[1])"
      ],
      "metadata": {
        "id": "ZXV_CDGCqgPM"
      },
      "execution_count": 29,
      "outputs": []
    },
    {
      "cell_type": "code",
      "source": [
        "df = pd.read_excel(data_path)"
      ],
      "metadata": {
        "id": "eS3TW9lWr1OO"
      },
      "execution_count": 36,
      "outputs": []
    },
    {
      "cell_type": "code",
      "source": [
        "#printing the sample view table\n",
        "df.head()"
      ],
      "metadata": {
        "colab": {
          "base_uri": "https://localhost:8080/",
          "height": 270
        },
        "id": "dVRiB-iUsVIZ",
        "outputId": "8c6cdac9-0c6b-42f0-c772-8b44f10a88de"
      },
      "execution_count": 37,
      "outputs": [
        {
          "output_type": "execute_result",
          "data": {
            "text/plain": [
              "    Area  Perimeter  MajorAxisLength  MinorAxisLength  AspectRation  \\\n",
              "0  28395    610.291       208.178117       173.888747      1.197191   \n",
              "1  28734    638.018       200.524796       182.734419      1.097356   \n",
              "2  29380    624.110       212.826130       175.931143      1.209713   \n",
              "3  30008    645.884       210.557999       182.516516      1.153638   \n",
              "4  30140    620.134       201.847882       190.279279      1.060798   \n",
              "\n",
              "   Eccentricity  ConvexArea  EquivDiameter    Extent  Solidity  roundness  \\\n",
              "0      0.549812       28715     190.141097  0.763923  0.988856   0.958027   \n",
              "1      0.411785       29172     191.272750  0.783968  0.984986   0.887034   \n",
              "2      0.562727       29690     193.410904  0.778113  0.989559   0.947849   \n",
              "3      0.498616       30724     195.467062  0.782681  0.976696   0.903936   \n",
              "4      0.333680       30417     195.896503  0.773098  0.990893   0.984877   \n",
              "\n",
              "   Compactness  ShapeFactor1  ShapeFactor2  ShapeFactor3  ShapeFactor4  Class  \n",
              "0     0.913358      0.007332      0.003147      0.834222      0.998724  SEKER  \n",
              "1     0.953861      0.006979      0.003564      0.909851      0.998430  SEKER  \n",
              "2     0.908774      0.007244      0.003048      0.825871      0.999066  SEKER  \n",
              "3     0.928329      0.007017      0.003215      0.861794      0.994199  SEKER  \n",
              "4     0.970516      0.006697      0.003665      0.941900      0.999166  SEKER  "
            ],
            "text/html": [
              "\n",
              "  <div id=\"df-3420b2a4-8074-479f-aaaa-6780442c3a90\">\n",
              "    <div class=\"colab-df-container\">\n",
              "      <div>\n",
              "<style scoped>\n",
              "    .dataframe tbody tr th:only-of-type {\n",
              "        vertical-align: middle;\n",
              "    }\n",
              "\n",
              "    .dataframe tbody tr th {\n",
              "        vertical-align: top;\n",
              "    }\n",
              "\n",
              "    .dataframe thead th {\n",
              "        text-align: right;\n",
              "    }\n",
              "</style>\n",
              "<table border=\"1\" class=\"dataframe\">\n",
              "  <thead>\n",
              "    <tr style=\"text-align: right;\">\n",
              "      <th></th>\n",
              "      <th>Area</th>\n",
              "      <th>Perimeter</th>\n",
              "      <th>MajorAxisLength</th>\n",
              "      <th>MinorAxisLength</th>\n",
              "      <th>AspectRation</th>\n",
              "      <th>Eccentricity</th>\n",
              "      <th>ConvexArea</th>\n",
              "      <th>EquivDiameter</th>\n",
              "      <th>Extent</th>\n",
              "      <th>Solidity</th>\n",
              "      <th>roundness</th>\n",
              "      <th>Compactness</th>\n",
              "      <th>ShapeFactor1</th>\n",
              "      <th>ShapeFactor2</th>\n",
              "      <th>ShapeFactor3</th>\n",
              "      <th>ShapeFactor4</th>\n",
              "      <th>Class</th>\n",
              "    </tr>\n",
              "  </thead>\n",
              "  <tbody>\n",
              "    <tr>\n",
              "      <th>0</th>\n",
              "      <td>28395</td>\n",
              "      <td>610.291</td>\n",
              "      <td>208.178117</td>\n",
              "      <td>173.888747</td>\n",
              "      <td>1.197191</td>\n",
              "      <td>0.549812</td>\n",
              "      <td>28715</td>\n",
              "      <td>190.141097</td>\n",
              "      <td>0.763923</td>\n",
              "      <td>0.988856</td>\n",
              "      <td>0.958027</td>\n",
              "      <td>0.913358</td>\n",
              "      <td>0.007332</td>\n",
              "      <td>0.003147</td>\n",
              "      <td>0.834222</td>\n",
              "      <td>0.998724</td>\n",
              "      <td>SEKER</td>\n",
              "    </tr>\n",
              "    <tr>\n",
              "      <th>1</th>\n",
              "      <td>28734</td>\n",
              "      <td>638.018</td>\n",
              "      <td>200.524796</td>\n",
              "      <td>182.734419</td>\n",
              "      <td>1.097356</td>\n",
              "      <td>0.411785</td>\n",
              "      <td>29172</td>\n",
              "      <td>191.272750</td>\n",
              "      <td>0.783968</td>\n",
              "      <td>0.984986</td>\n",
              "      <td>0.887034</td>\n",
              "      <td>0.953861</td>\n",
              "      <td>0.006979</td>\n",
              "      <td>0.003564</td>\n",
              "      <td>0.909851</td>\n",
              "      <td>0.998430</td>\n",
              "      <td>SEKER</td>\n",
              "    </tr>\n",
              "    <tr>\n",
              "      <th>2</th>\n",
              "      <td>29380</td>\n",
              "      <td>624.110</td>\n",
              "      <td>212.826130</td>\n",
              "      <td>175.931143</td>\n",
              "      <td>1.209713</td>\n",
              "      <td>0.562727</td>\n",
              "      <td>29690</td>\n",
              "      <td>193.410904</td>\n",
              "      <td>0.778113</td>\n",
              "      <td>0.989559</td>\n",
              "      <td>0.947849</td>\n",
              "      <td>0.908774</td>\n",
              "      <td>0.007244</td>\n",
              "      <td>0.003048</td>\n",
              "      <td>0.825871</td>\n",
              "      <td>0.999066</td>\n",
              "      <td>SEKER</td>\n",
              "    </tr>\n",
              "    <tr>\n",
              "      <th>3</th>\n",
              "      <td>30008</td>\n",
              "      <td>645.884</td>\n",
              "      <td>210.557999</td>\n",
              "      <td>182.516516</td>\n",
              "      <td>1.153638</td>\n",
              "      <td>0.498616</td>\n",
              "      <td>30724</td>\n",
              "      <td>195.467062</td>\n",
              "      <td>0.782681</td>\n",
              "      <td>0.976696</td>\n",
              "      <td>0.903936</td>\n",
              "      <td>0.928329</td>\n",
              "      <td>0.007017</td>\n",
              "      <td>0.003215</td>\n",
              "      <td>0.861794</td>\n",
              "      <td>0.994199</td>\n",
              "      <td>SEKER</td>\n",
              "    </tr>\n",
              "    <tr>\n",
              "      <th>4</th>\n",
              "      <td>30140</td>\n",
              "      <td>620.134</td>\n",
              "      <td>201.847882</td>\n",
              "      <td>190.279279</td>\n",
              "      <td>1.060798</td>\n",
              "      <td>0.333680</td>\n",
              "      <td>30417</td>\n",
              "      <td>195.896503</td>\n",
              "      <td>0.773098</td>\n",
              "      <td>0.990893</td>\n",
              "      <td>0.984877</td>\n",
              "      <td>0.970516</td>\n",
              "      <td>0.006697</td>\n",
              "      <td>0.003665</td>\n",
              "      <td>0.941900</td>\n",
              "      <td>0.999166</td>\n",
              "      <td>SEKER</td>\n",
              "    </tr>\n",
              "  </tbody>\n",
              "</table>\n",
              "</div>\n",
              "      <button class=\"colab-df-convert\" onclick=\"convertToInteractive('df-3420b2a4-8074-479f-aaaa-6780442c3a90')\"\n",
              "              title=\"Convert this dataframe to an interactive table.\"\n",
              "              style=\"display:none;\">\n",
              "        \n",
              "  <svg xmlns=\"http://www.w3.org/2000/svg\" height=\"24px\"viewBox=\"0 0 24 24\"\n",
              "       width=\"24px\">\n",
              "    <path d=\"M0 0h24v24H0V0z\" fill=\"none\"/>\n",
              "    <path d=\"M18.56 5.44l.94 2.06.94-2.06 2.06-.94-2.06-.94-.94-2.06-.94 2.06-2.06.94zm-11 1L8.5 8.5l.94-2.06 2.06-.94-2.06-.94L8.5 2.5l-.94 2.06-2.06.94zm10 10l.94 2.06.94-2.06 2.06-.94-2.06-.94-.94-2.06-.94 2.06-2.06.94z\"/><path d=\"M17.41 7.96l-1.37-1.37c-.4-.4-.92-.59-1.43-.59-.52 0-1.04.2-1.43.59L10.3 9.45l-7.72 7.72c-.78.78-.78 2.05 0 2.83L4 21.41c.39.39.9.59 1.41.59.51 0 1.02-.2 1.41-.59l7.78-7.78 2.81-2.81c.8-.78.8-2.07 0-2.86zM5.41 20L4 18.59l7.72-7.72 1.47 1.35L5.41 20z\"/>\n",
              "  </svg>\n",
              "      </button>\n",
              "      \n",
              "  <style>\n",
              "    .colab-df-container {\n",
              "      display:flex;\n",
              "      flex-wrap:wrap;\n",
              "      gap: 12px;\n",
              "    }\n",
              "\n",
              "    .colab-df-convert {\n",
              "      background-color: #E8F0FE;\n",
              "      border: none;\n",
              "      border-radius: 50%;\n",
              "      cursor: pointer;\n",
              "      display: none;\n",
              "      fill: #1967D2;\n",
              "      height: 32px;\n",
              "      padding: 0 0 0 0;\n",
              "      width: 32px;\n",
              "    }\n",
              "\n",
              "    .colab-df-convert:hover {\n",
              "      background-color: #E2EBFA;\n",
              "      box-shadow: 0px 1px 2px rgba(60, 64, 67, 0.3), 0px 1px 3px 1px rgba(60, 64, 67, 0.15);\n",
              "      fill: #174EA6;\n",
              "    }\n",
              "\n",
              "    [theme=dark] .colab-df-convert {\n",
              "      background-color: #3B4455;\n",
              "      fill: #D2E3FC;\n",
              "    }\n",
              "\n",
              "    [theme=dark] .colab-df-convert:hover {\n",
              "      background-color: #434B5C;\n",
              "      box-shadow: 0px 1px 3px 1px rgba(0, 0, 0, 0.15);\n",
              "      filter: drop-shadow(0px 1px 2px rgba(0, 0, 0, 0.3));\n",
              "      fill: #FFFFFF;\n",
              "    }\n",
              "  </style>\n",
              "\n",
              "      <script>\n",
              "        const buttonEl =\n",
              "          document.querySelector('#df-3420b2a4-8074-479f-aaaa-6780442c3a90 button.colab-df-convert');\n",
              "        buttonEl.style.display =\n",
              "          google.colab.kernel.accessAllowed ? 'block' : 'none';\n",
              "\n",
              "        async function convertToInteractive(key) {\n",
              "          const element = document.querySelector('#df-3420b2a4-8074-479f-aaaa-6780442c3a90');\n",
              "          const dataTable =\n",
              "            await google.colab.kernel.invokeFunction('convertToInteractive',\n",
              "                                                     [key], {});\n",
              "          if (!dataTable) return;\n",
              "\n",
              "          const docLinkHtml = 'Like what you see? Visit the ' +\n",
              "            '<a target=\"_blank\" href=https://colab.research.google.com/notebooks/data_table.ipynb>data table notebook</a>'\n",
              "            + ' to learn more about interactive tables.';\n",
              "          element.innerHTML = '';\n",
              "          dataTable['output_type'] = 'display_data';\n",
              "          await google.colab.output.renderOutput(dataTable, element);\n",
              "          const docLink = document.createElement('div');\n",
              "          docLink.innerHTML = docLinkHtml;\n",
              "          element.appendChild(docLink);\n",
              "        }\n",
              "      </script>\n",
              "    </div>\n",
              "  </div>\n",
              "  "
            ]
          },
          "metadata": {},
          "execution_count": 37
        }
      ]
    },
    {
      "cell_type": "code",
      "source": [
        "#viewing different types of classes in bean data frame\n",
        "Y = pd.get_dummies(df[\"Class\"])"
      ],
      "metadata": {
        "id": "8BXnoqrhvF9M"
      },
      "execution_count": 49,
      "outputs": []
    },
    {
      "cell_type": "code",
      "source": [
        "Y"
      ],
      "metadata": {
        "colab": {
          "base_uri": "https://localhost:8080/",
          "height": 424
        },
        "id": "aUPezxfZvjHM",
        "outputId": "ce4504af-377e-471d-fcb2-1205b27ff7ef"
      },
      "execution_count": 50,
      "outputs": [
        {
          "output_type": "execute_result",
          "data": {
            "text/plain": [
              "       BARBUNYA  BOMBAY  CALI  DERMASON  HOROZ  SEKER  SIRA\n",
              "0             0       0     0         0      0      1     0\n",
              "1             0       0     0         0      0      1     0\n",
              "2             0       0     0         0      0      1     0\n",
              "3             0       0     0         0      0      1     0\n",
              "4             0       0     0         0      0      1     0\n",
              "...         ...     ...   ...       ...    ...    ...   ...\n",
              "13606         0       0     0         1      0      0     0\n",
              "13607         0       0     0         1      0      0     0\n",
              "13608         0       0     0         1      0      0     0\n",
              "13609         0       0     0         1      0      0     0\n",
              "13610         0       0     0         1      0      0     0\n",
              "\n",
              "[13611 rows x 7 columns]"
            ],
            "text/html": [
              "\n",
              "  <div id=\"df-56da13d7-f4c9-4a7c-b58d-3d9870154aea\">\n",
              "    <div class=\"colab-df-container\">\n",
              "      <div>\n",
              "<style scoped>\n",
              "    .dataframe tbody tr th:only-of-type {\n",
              "        vertical-align: middle;\n",
              "    }\n",
              "\n",
              "    .dataframe tbody tr th {\n",
              "        vertical-align: top;\n",
              "    }\n",
              "\n",
              "    .dataframe thead th {\n",
              "        text-align: right;\n",
              "    }\n",
              "</style>\n",
              "<table border=\"1\" class=\"dataframe\">\n",
              "  <thead>\n",
              "    <tr style=\"text-align: right;\">\n",
              "      <th></th>\n",
              "      <th>BARBUNYA</th>\n",
              "      <th>BOMBAY</th>\n",
              "      <th>CALI</th>\n",
              "      <th>DERMASON</th>\n",
              "      <th>HOROZ</th>\n",
              "      <th>SEKER</th>\n",
              "      <th>SIRA</th>\n",
              "    </tr>\n",
              "  </thead>\n",
              "  <tbody>\n",
              "    <tr>\n",
              "      <th>0</th>\n",
              "      <td>0</td>\n",
              "      <td>0</td>\n",
              "      <td>0</td>\n",
              "      <td>0</td>\n",
              "      <td>0</td>\n",
              "      <td>1</td>\n",
              "      <td>0</td>\n",
              "    </tr>\n",
              "    <tr>\n",
              "      <th>1</th>\n",
              "      <td>0</td>\n",
              "      <td>0</td>\n",
              "      <td>0</td>\n",
              "      <td>0</td>\n",
              "      <td>0</td>\n",
              "      <td>1</td>\n",
              "      <td>0</td>\n",
              "    </tr>\n",
              "    <tr>\n",
              "      <th>2</th>\n",
              "      <td>0</td>\n",
              "      <td>0</td>\n",
              "      <td>0</td>\n",
              "      <td>0</td>\n",
              "      <td>0</td>\n",
              "      <td>1</td>\n",
              "      <td>0</td>\n",
              "    </tr>\n",
              "    <tr>\n",
              "      <th>3</th>\n",
              "      <td>0</td>\n",
              "      <td>0</td>\n",
              "      <td>0</td>\n",
              "      <td>0</td>\n",
              "      <td>0</td>\n",
              "      <td>1</td>\n",
              "      <td>0</td>\n",
              "    </tr>\n",
              "    <tr>\n",
              "      <th>4</th>\n",
              "      <td>0</td>\n",
              "      <td>0</td>\n",
              "      <td>0</td>\n",
              "      <td>0</td>\n",
              "      <td>0</td>\n",
              "      <td>1</td>\n",
              "      <td>0</td>\n",
              "    </tr>\n",
              "    <tr>\n",
              "      <th>...</th>\n",
              "      <td>...</td>\n",
              "      <td>...</td>\n",
              "      <td>...</td>\n",
              "      <td>...</td>\n",
              "      <td>...</td>\n",
              "      <td>...</td>\n",
              "      <td>...</td>\n",
              "    </tr>\n",
              "    <tr>\n",
              "      <th>13606</th>\n",
              "      <td>0</td>\n",
              "      <td>0</td>\n",
              "      <td>0</td>\n",
              "      <td>1</td>\n",
              "      <td>0</td>\n",
              "      <td>0</td>\n",
              "      <td>0</td>\n",
              "    </tr>\n",
              "    <tr>\n",
              "      <th>13607</th>\n",
              "      <td>0</td>\n",
              "      <td>0</td>\n",
              "      <td>0</td>\n",
              "      <td>1</td>\n",
              "      <td>0</td>\n",
              "      <td>0</td>\n",
              "      <td>0</td>\n",
              "    </tr>\n",
              "    <tr>\n",
              "      <th>13608</th>\n",
              "      <td>0</td>\n",
              "      <td>0</td>\n",
              "      <td>0</td>\n",
              "      <td>1</td>\n",
              "      <td>0</td>\n",
              "      <td>0</td>\n",
              "      <td>0</td>\n",
              "    </tr>\n",
              "    <tr>\n",
              "      <th>13609</th>\n",
              "      <td>0</td>\n",
              "      <td>0</td>\n",
              "      <td>0</td>\n",
              "      <td>1</td>\n",
              "      <td>0</td>\n",
              "      <td>0</td>\n",
              "      <td>0</td>\n",
              "    </tr>\n",
              "    <tr>\n",
              "      <th>13610</th>\n",
              "      <td>0</td>\n",
              "      <td>0</td>\n",
              "      <td>0</td>\n",
              "      <td>1</td>\n",
              "      <td>0</td>\n",
              "      <td>0</td>\n",
              "      <td>0</td>\n",
              "    </tr>\n",
              "  </tbody>\n",
              "</table>\n",
              "<p>13611 rows × 7 columns</p>\n",
              "</div>\n",
              "      <button class=\"colab-df-convert\" onclick=\"convertToInteractive('df-56da13d7-f4c9-4a7c-b58d-3d9870154aea')\"\n",
              "              title=\"Convert this dataframe to an interactive table.\"\n",
              "              style=\"display:none;\">\n",
              "        \n",
              "  <svg xmlns=\"http://www.w3.org/2000/svg\" height=\"24px\"viewBox=\"0 0 24 24\"\n",
              "       width=\"24px\">\n",
              "    <path d=\"M0 0h24v24H0V0z\" fill=\"none\"/>\n",
              "    <path d=\"M18.56 5.44l.94 2.06.94-2.06 2.06-.94-2.06-.94-.94-2.06-.94 2.06-2.06.94zm-11 1L8.5 8.5l.94-2.06 2.06-.94-2.06-.94L8.5 2.5l-.94 2.06-2.06.94zm10 10l.94 2.06.94-2.06 2.06-.94-2.06-.94-.94-2.06-.94 2.06-2.06.94z\"/><path d=\"M17.41 7.96l-1.37-1.37c-.4-.4-.92-.59-1.43-.59-.52 0-1.04.2-1.43.59L10.3 9.45l-7.72 7.72c-.78.78-.78 2.05 0 2.83L4 21.41c.39.39.9.59 1.41.59.51 0 1.02-.2 1.41-.59l7.78-7.78 2.81-2.81c.8-.78.8-2.07 0-2.86zM5.41 20L4 18.59l7.72-7.72 1.47 1.35L5.41 20z\"/>\n",
              "  </svg>\n",
              "      </button>\n",
              "      \n",
              "  <style>\n",
              "    .colab-df-container {\n",
              "      display:flex;\n",
              "      flex-wrap:wrap;\n",
              "      gap: 12px;\n",
              "    }\n",
              "\n",
              "    .colab-df-convert {\n",
              "      background-color: #E8F0FE;\n",
              "      border: none;\n",
              "      border-radius: 50%;\n",
              "      cursor: pointer;\n",
              "      display: none;\n",
              "      fill: #1967D2;\n",
              "      height: 32px;\n",
              "      padding: 0 0 0 0;\n",
              "      width: 32px;\n",
              "    }\n",
              "\n",
              "    .colab-df-convert:hover {\n",
              "      background-color: #E2EBFA;\n",
              "      box-shadow: 0px 1px 2px rgba(60, 64, 67, 0.3), 0px 1px 3px 1px rgba(60, 64, 67, 0.15);\n",
              "      fill: #174EA6;\n",
              "    }\n",
              "\n",
              "    [theme=dark] .colab-df-convert {\n",
              "      background-color: #3B4455;\n",
              "      fill: #D2E3FC;\n",
              "    }\n",
              "\n",
              "    [theme=dark] .colab-df-convert:hover {\n",
              "      background-color: #434B5C;\n",
              "      box-shadow: 0px 1px 3px 1px rgba(0, 0, 0, 0.15);\n",
              "      filter: drop-shadow(0px 1px 2px rgba(0, 0, 0, 0.3));\n",
              "      fill: #FFFFFF;\n",
              "    }\n",
              "  </style>\n",
              "\n",
              "      <script>\n",
              "        const buttonEl =\n",
              "          document.querySelector('#df-56da13d7-f4c9-4a7c-b58d-3d9870154aea button.colab-df-convert');\n",
              "        buttonEl.style.display =\n",
              "          google.colab.kernel.accessAllowed ? 'block' : 'none';\n",
              "\n",
              "        async function convertToInteractive(key) {\n",
              "          const element = document.querySelector('#df-56da13d7-f4c9-4a7c-b58d-3d9870154aea');\n",
              "          const dataTable =\n",
              "            await google.colab.kernel.invokeFunction('convertToInteractive',\n",
              "                                                     [key], {});\n",
              "          if (!dataTable) return;\n",
              "\n",
              "          const docLinkHtml = 'Like what you see? Visit the ' +\n",
              "            '<a target=\"_blank\" href=https://colab.research.google.com/notebooks/data_table.ipynb>data table notebook</a>'\n",
              "            + ' to learn more about interactive tables.';\n",
              "          element.innerHTML = '';\n",
              "          dataTable['output_type'] = 'display_data';\n",
              "          await google.colab.output.renderOutput(dataTable, element);\n",
              "          const docLink = document.createElement('div');\n",
              "          docLink.innerHTML = docLinkHtml;\n",
              "          element.appendChild(docLink);\n",
              "        }\n",
              "      </script>\n",
              "    </div>\n",
              "  </div>\n",
              "  "
            ]
          },
          "metadata": {},
          "execution_count": 50
        }
      ]
    },
    {
      "cell_type": "code",
      "source": [
        "from sklearn.model_selection import train_test_split\n"
      ],
      "metadata": {
        "id": "0oNmfoJDv3P3"
      },
      "execution_count": 42,
      "outputs": []
    },
    {
      "cell_type": "code",
      "source": [
        "x = df.drop(\"Class\", axis = 1)\n",
        "y = Y"
      ],
      "metadata": {
        "id": "2msRB8b2whsv"
      },
      "execution_count": 51,
      "outputs": []
    },
    {
      "cell_type": "code",
      "source": [
        "x_train, x_test, y_train, y_test = train_test_split(\n",
        "    x, y, \n",
        "    test_size=0.2, random_state=42\n",
        ")\n",
        "\n",
        "x_train, x_valid, y_train, y_valid = train_test_split(x_train, y_train, train_size=0.9)"
      ],
      "metadata": {
        "id": "TpeReAzoxAta"
      },
      "execution_count": 78,
      "outputs": []
    },
    {
      "cell_type": "code",
      "source": [
        "from sklearn.preprocessing import StandardScaler\n",
        "\n",
        "scaler = StandardScaler()\n",
        "x_train_scaled = scaler.fit_transform(x_train)\n",
        "x_test_scaled = scaler.fit_transform(x_test)\n",
        "x_valid_scaled = scaler.transform(x_valid)"
      ],
      "metadata": {
        "id": "xwCRFj6mxJx1"
      },
      "execution_count": 80,
      "outputs": []
    },
    {
      "cell_type": "code",
      "source": [
        "train_dataset = tf.data.Dataset.from_tensor_slices((x_train_scaled, y_train)).batch(32)\n",
        "test_dataset = tf.data.Dataset.from_tensor_slices((x_test_scaled, y_test)).batch(32)\n",
        "val_dataset = tf.data.Dataset.from_tensor_slices((x_valid_scaled, y_valid)).batch(32)"
      ],
      "metadata": {
        "id": "i2fhzDu4xz1S"
      },
      "execution_count": 145,
      "outputs": []
    },
    {
      "cell_type": "code",
      "source": [
        "train_dataset\n",
        "m = next(iter(train_dataset))\n",
        "m[1]"
      ],
      "metadata": {
        "colab": {
          "base_uri": "https://localhost:8080/"
        },
        "id": "3BeHVSy388LJ",
        "outputId": "ef7ec125-6d4e-4440-fcbb-42a21ab86296"
      },
      "execution_count": 155,
      "outputs": [
        {
          "output_type": "execute_result",
          "data": {
            "text/plain": [
              "<tf.Tensor: shape=(32, 7), dtype=uint8, numpy=\n",
              "array([[0, 0, 0, 1, 0, 0, 0],\n",
              "       [1, 0, 0, 0, 0, 0, 0],\n",
              "       [0, 0, 0, 0, 0, 1, 0],\n",
              "       [0, 0, 1, 0, 0, 0, 0],\n",
              "       [0, 0, 0, 0, 0, 0, 1],\n",
              "       [0, 0, 0, 1, 0, 0, 0],\n",
              "       [0, 0, 0, 0, 1, 0, 0],\n",
              "       [0, 0, 0, 1, 0, 0, 0],\n",
              "       [1, 0, 0, 0, 0, 0, 0],\n",
              "       [0, 0, 0, 0, 0, 0, 1],\n",
              "       [0, 0, 1, 0, 0, 0, 0],\n",
              "       [0, 0, 0, 1, 0, 0, 0],\n",
              "       [0, 0, 0, 1, 0, 0, 0],\n",
              "       [0, 0, 0, 0, 1, 0, 0],\n",
              "       [0, 0, 0, 0, 1, 0, 0],\n",
              "       [0, 0, 1, 0, 0, 0, 0],\n",
              "       [0, 1, 0, 0, 0, 0, 0],\n",
              "       [0, 0, 0, 1, 0, 0, 0],\n",
              "       [0, 0, 0, 0, 0, 1, 0],\n",
              "       [1, 0, 0, 0, 0, 0, 0],\n",
              "       [0, 0, 0, 0, 0, 0, 1],\n",
              "       [1, 0, 0, 0, 0, 0, 0],\n",
              "       [1, 0, 0, 0, 0, 0, 0],\n",
              "       [0, 0, 0, 1, 0, 0, 0],\n",
              "       [0, 0, 0, 0, 0, 0, 1],\n",
              "       [0, 0, 0, 1, 0, 0, 0],\n",
              "       [0, 0, 0, 1, 0, 0, 0],\n",
              "       [0, 0, 0, 0, 0, 1, 0],\n",
              "       [1, 0, 0, 0, 0, 0, 0],\n",
              "       [0, 0, 0, 0, 0, 0, 1],\n",
              "       [0, 0, 0, 0, 1, 0, 0],\n",
              "       [0, 0, 0, 0, 0, 0, 1]], dtype=uint8)>"
            ]
          },
          "metadata": {},
          "execution_count": 155
        }
      ]
    },
    {
      "cell_type": "code",
      "source": [
        "model = tf.keras.Sequential([\n",
        "    tf.keras.layers.Dense(64 , activation = \"relu\"), \n",
        "    tf.keras.layers.Dense(32 , activation = \"relu\"),\n",
        "    tf.keras.layers.Dense(16 , activation = \"relu\"),\n",
        "    tf.keras.layers.Dense(8 , activation = \"relu\"),\n",
        "    tf.keras.layers.Dense(7, activation = \"softmax\"),\n",
        "]) "
      ],
      "metadata": {
        "id": "yPXyiqqbx1ky"
      },
      "execution_count": 147,
      "outputs": []
    },
    {
      "cell_type": "code",
      "source": [
        "model.summary()"
      ],
      "metadata": {
        "colab": {
          "base_uri": "https://localhost:8080/",
          "height": 304
        },
        "id": "P-yrQNusDhmn",
        "outputId": "9d16e465-43f3-4046-9216-8ea4b02f3d7f"
      },
      "execution_count": 148,
      "outputs": [
        {
          "output_type": "error",
          "ename": "ValueError",
          "evalue": "ignored",
          "traceback": [
            "\u001b[0;31m---------------------------------------------------------------------------\u001b[0m",
            "\u001b[0;31mValueError\u001b[0m                                Traceback (most recent call last)",
            "\u001b[0;32m<ipython-input-148-5f15418b3570>\u001b[0m in \u001b[0;36m<module>\u001b[0;34m()\u001b[0m\n\u001b[0;32m----> 1\u001b[0;31m \u001b[0mmodel\u001b[0m\u001b[0;34m.\u001b[0m\u001b[0msummary\u001b[0m\u001b[0;34m(\u001b[0m\u001b[0;34m)\u001b[0m\u001b[0;34m\u001b[0m\u001b[0;34m\u001b[0m\u001b[0m\n\u001b[0m",
            "\u001b[0;32m/usr/local/lib/python3.7/dist-packages/keras/engine/training.py\u001b[0m in \u001b[0;36msummary\u001b[0;34m(self, line_length, positions, print_fn, expand_nested, show_trainable)\u001b[0m\n\u001b[1;32m   2774\u001b[0m     \u001b[0;32mif\u001b[0m \u001b[0;32mnot\u001b[0m \u001b[0mself\u001b[0m\u001b[0;34m.\u001b[0m\u001b[0mbuilt\u001b[0m\u001b[0;34m:\u001b[0m\u001b[0;34m\u001b[0m\u001b[0;34m\u001b[0m\u001b[0m\n\u001b[1;32m   2775\u001b[0m       raise ValueError(\n\u001b[0;32m-> 2776\u001b[0;31m           \u001b[0;34m'This model has not yet been built. '\u001b[0m\u001b[0;34m\u001b[0m\u001b[0;34m\u001b[0m\u001b[0m\n\u001b[0m\u001b[1;32m   2777\u001b[0m           \u001b[0;34m'Build the model first by calling `build()` or by calling '\u001b[0m\u001b[0;34m\u001b[0m\u001b[0;34m\u001b[0m\u001b[0m\n\u001b[1;32m   2778\u001b[0m           'the model on a batch of data.')\n",
            "\u001b[0;31mValueError\u001b[0m: This model has not yet been built. Build the model first by calling `build()` or by calling the model on a batch of data."
          ]
        }
      ]
    },
    {
      "cell_type": "code",
      "source": [
        "opt = tf.keras.optimizers.Adam(learning_rate=0.01)\n",
        "# model.compile(loss='categorical_crossentropy', optimizer=opt)"
      ],
      "metadata": {
        "id": "0U8P_6gP7UwQ"
      },
      "execution_count": 150,
      "outputs": []
    },
    {
      "cell_type": "code",
      "source": [
        "model.compile(\n",
        "    optimizer=opt,\n",
        "    loss=tf.keras.losses.CategoricalCrossentropy(from_logits=False),\n",
        "    metrics=[\"accuracy\"],\n",
        "    \n",
        ")"
      ],
      "metadata": {
        "id": "v97nrxoZ5hcJ"
      },
      "execution_count": 151,
      "outputs": []
    },
    {
      "cell_type": "code",
      "source": [
        "history = model.fit(train_dataset, validation_data = val_dataset, epochs = 100)"
      ],
      "metadata": {
        "colab": {
          "base_uri": "https://localhost:8080/"
        },
        "id": "-6PH_UGH5iGv",
        "outputId": "741a74aa-d417-44fe-e934-cd5fa189f282"
      },
      "execution_count": 152,
      "outputs": [
        {
          "output_type": "stream",
          "name": "stdout",
          "text": [
            "Epoch 1/100\n",
            "307/307 [==============================] - 1s 2ms/step - loss: 0.4373 - accuracy: 0.8409 - val_loss: 0.2831 - val_accuracy: 0.9054\n",
            "Epoch 2/100\n",
            "307/307 [==============================] - 1s 2ms/step - loss: 0.2537 - accuracy: 0.9133 - val_loss: 0.2396 - val_accuracy: 0.9219\n",
            "Epoch 3/100\n",
            "307/307 [==============================] - 1s 2ms/step - loss: 0.2430 - accuracy: 0.9167 - val_loss: 0.2619 - val_accuracy: 0.8972\n",
            "Epoch 4/100\n",
            "307/307 [==============================] - 1s 2ms/step - loss: 0.2441 - accuracy: 0.9175 - val_loss: 0.2331 - val_accuracy: 0.9192\n",
            "Epoch 5/100\n",
            "307/307 [==============================] - 1s 2ms/step - loss: 0.2415 - accuracy: 0.9198 - val_loss: 0.2397 - val_accuracy: 0.9219\n",
            "Epoch 6/100\n",
            "307/307 [==============================] - 1s 2ms/step - loss: 0.2277 - accuracy: 0.9210 - val_loss: 0.2287 - val_accuracy: 0.9210\n",
            "Epoch 7/100\n",
            "307/307 [==============================] - 1s 2ms/step - loss: 0.2209 - accuracy: 0.9218 - val_loss: 0.2121 - val_accuracy: 0.9247\n",
            "Epoch 8/100\n",
            "307/307 [==============================] - 1s 2ms/step - loss: 0.2189 - accuracy: 0.9221 - val_loss: 0.2031 - val_accuracy: 0.9311\n",
            "Epoch 9/100\n",
            "307/307 [==============================] - 1s 2ms/step - loss: 0.2152 - accuracy: 0.9225 - val_loss: 0.2167 - val_accuracy: 0.9293\n",
            "Epoch 10/100\n",
            "307/307 [==============================] - 1s 2ms/step - loss: 0.2138 - accuracy: 0.9240 - val_loss: 0.2426 - val_accuracy: 0.9210\n",
            "Epoch 11/100\n",
            "307/307 [==============================] - 1s 2ms/step - loss: 0.2113 - accuracy: 0.9251 - val_loss: 0.2095 - val_accuracy: 0.9256\n",
            "Epoch 12/100\n",
            "307/307 [==============================] - 1s 2ms/step - loss: 0.2090 - accuracy: 0.9280 - val_loss: 0.2067 - val_accuracy: 0.9293\n",
            "Epoch 13/100\n",
            "307/307 [==============================] - 1s 2ms/step - loss: 0.2075 - accuracy: 0.9259 - val_loss: 0.2024 - val_accuracy: 0.9265\n",
            "Epoch 14/100\n",
            "307/307 [==============================] - 1s 2ms/step - loss: 0.2071 - accuracy: 0.9260 - val_loss: 0.1969 - val_accuracy: 0.9293\n",
            "Epoch 15/100\n",
            "307/307 [==============================] - 1s 2ms/step - loss: 0.2153 - accuracy: 0.9242 - val_loss: 0.1959 - val_accuracy: 0.9403\n",
            "Epoch 16/100\n",
            "307/307 [==============================] - 1s 2ms/step - loss: 0.2083 - accuracy: 0.9264 - val_loss: 0.2144 - val_accuracy: 0.9320\n",
            "Epoch 17/100\n",
            "307/307 [==============================] - 1s 2ms/step - loss: 0.2028 - accuracy: 0.9271 - val_loss: 0.2385 - val_accuracy: 0.9265\n",
            "Epoch 18/100\n",
            "307/307 [==============================] - 1s 2ms/step - loss: 0.2120 - accuracy: 0.9263 - val_loss: 0.2103 - val_accuracy: 0.9256\n",
            "Epoch 19/100\n",
            "307/307 [==============================] - 1s 2ms/step - loss: 0.2165 - accuracy: 0.9225 - val_loss: 0.2239 - val_accuracy: 0.9284\n",
            "Epoch 20/100\n",
            "307/307 [==============================] - 1s 2ms/step - loss: 0.2027 - accuracy: 0.9277 - val_loss: 0.2064 - val_accuracy: 0.9320\n",
            "Epoch 21/100\n",
            "307/307 [==============================] - 1s 2ms/step - loss: 0.2164 - accuracy: 0.9239 - val_loss: 0.2152 - val_accuracy: 0.9311\n",
            "Epoch 22/100\n",
            "307/307 [==============================] - 1s 2ms/step - loss: 0.1996 - accuracy: 0.9263 - val_loss: 0.2244 - val_accuracy: 0.9320\n",
            "Epoch 23/100\n",
            "307/307 [==============================] - 1s 2ms/step - loss: 0.2019 - accuracy: 0.9277 - val_loss: 0.2125 - val_accuracy: 0.9339\n",
            "Epoch 24/100\n",
            "307/307 [==============================] - 1s 2ms/step - loss: 0.2066 - accuracy: 0.9271 - val_loss: 0.2174 - val_accuracy: 0.9357\n",
            "Epoch 25/100\n",
            "307/307 [==============================] - 1s 2ms/step - loss: 0.1954 - accuracy: 0.9300 - val_loss: 0.2194 - val_accuracy: 0.9311\n",
            "Epoch 26/100\n",
            "307/307 [==============================] - 1s 2ms/step - loss: 0.2203 - accuracy: 0.9243 - val_loss: 0.2263 - val_accuracy: 0.9265\n",
            "Epoch 27/100\n",
            "307/307 [==============================] - 1s 2ms/step - loss: 0.1956 - accuracy: 0.9302 - val_loss: 0.2281 - val_accuracy: 0.9256\n",
            "Epoch 28/100\n",
            "307/307 [==============================] - 1s 2ms/step - loss: 0.1905 - accuracy: 0.9289 - val_loss: 0.2122 - val_accuracy: 0.9284\n",
            "Epoch 29/100\n",
            "307/307 [==============================] - 1s 2ms/step - loss: 0.2062 - accuracy: 0.9267 - val_loss: 0.2122 - val_accuracy: 0.9247\n",
            "Epoch 30/100\n",
            "307/307 [==============================] - 1s 2ms/step - loss: 0.1957 - accuracy: 0.9311 - val_loss: 0.2158 - val_accuracy: 0.9302\n",
            "Epoch 31/100\n",
            "307/307 [==============================] - 1s 2ms/step - loss: 0.1919 - accuracy: 0.9307 - val_loss: 0.2187 - val_accuracy: 0.9302\n",
            "Epoch 32/100\n",
            "307/307 [==============================] - 1s 2ms/step - loss: 0.2075 - accuracy: 0.9278 - val_loss: 0.2284 - val_accuracy: 0.9219\n",
            "Epoch 33/100\n",
            "307/307 [==============================] - 1s 2ms/step - loss: 0.2021 - accuracy: 0.9303 - val_loss: 0.2212 - val_accuracy: 0.9284\n",
            "Epoch 34/100\n",
            "307/307 [==============================] - 1s 2ms/step - loss: 0.1957 - accuracy: 0.9277 - val_loss: 0.2107 - val_accuracy: 0.9284\n",
            "Epoch 35/100\n",
            "307/307 [==============================] - 1s 2ms/step - loss: 0.1900 - accuracy: 0.9296 - val_loss: 0.2197 - val_accuracy: 0.9302\n",
            "Epoch 36/100\n",
            "307/307 [==============================] - 1s 2ms/step - loss: 0.1892 - accuracy: 0.9298 - val_loss: 0.2284 - val_accuracy: 0.9293\n",
            "Epoch 37/100\n",
            "307/307 [==============================] - 1s 2ms/step - loss: 0.1907 - accuracy: 0.9302 - val_loss: 0.2292 - val_accuracy: 0.9238\n",
            "Epoch 38/100\n",
            "307/307 [==============================] - 1s 2ms/step - loss: 0.1924 - accuracy: 0.9301 - val_loss: 0.2237 - val_accuracy: 0.9247\n",
            "Epoch 39/100\n",
            "307/307 [==============================] - 1s 2ms/step - loss: 0.1945 - accuracy: 0.9305 - val_loss: 0.2322 - val_accuracy: 0.9265\n",
            "Epoch 40/100\n",
            "307/307 [==============================] - 1s 2ms/step - loss: 0.1851 - accuracy: 0.9327 - val_loss: 0.2362 - val_accuracy: 0.9293\n",
            "Epoch 41/100\n",
            "307/307 [==============================] - 1s 2ms/step - loss: 0.1912 - accuracy: 0.9302 - val_loss: 0.2493 - val_accuracy: 0.9210\n",
            "Epoch 42/100\n",
            "307/307 [==============================] - 1s 2ms/step - loss: 0.1945 - accuracy: 0.9284 - val_loss: 0.2394 - val_accuracy: 0.9275\n",
            "Epoch 43/100\n",
            "307/307 [==============================] - 1s 2ms/step - loss: 0.1882 - accuracy: 0.9321 - val_loss: 0.2453 - val_accuracy: 0.9229\n",
            "Epoch 44/100\n",
            "307/307 [==============================] - 1s 2ms/step - loss: 0.1882 - accuracy: 0.9313 - val_loss: 0.2666 - val_accuracy: 0.9339\n",
            "Epoch 45/100\n",
            "307/307 [==============================] - 1s 2ms/step - loss: 0.1879 - accuracy: 0.9317 - val_loss: 0.2684 - val_accuracy: 0.9275\n",
            "Epoch 46/100\n",
            "307/307 [==============================] - 1s 2ms/step - loss: 0.1915 - accuracy: 0.9315 - val_loss: 0.2438 - val_accuracy: 0.9293\n",
            "Epoch 47/100\n",
            "307/307 [==============================] - 1s 2ms/step - loss: 0.1846 - accuracy: 0.9341 - val_loss: 0.2703 - val_accuracy: 0.9265\n",
            "Epoch 48/100\n",
            "307/307 [==============================] - 1s 2ms/step - loss: 0.1889 - accuracy: 0.9304 - val_loss: 0.2471 - val_accuracy: 0.9275\n",
            "Epoch 49/100\n",
            "307/307 [==============================] - 1s 2ms/step - loss: 0.1804 - accuracy: 0.9334 - val_loss: 0.2754 - val_accuracy: 0.9256\n",
            "Epoch 50/100\n",
            "307/307 [==============================] - 1s 2ms/step - loss: 0.1790 - accuracy: 0.9340 - val_loss: 0.2695 - val_accuracy: 0.9238\n",
            "Epoch 51/100\n",
            "307/307 [==============================] - 1s 2ms/step - loss: 0.1857 - accuracy: 0.9330 - val_loss: 0.2451 - val_accuracy: 0.9256\n",
            "Epoch 52/100\n",
            "307/307 [==============================] - 1s 2ms/step - loss: 0.1847 - accuracy: 0.9327 - val_loss: 0.2935 - val_accuracy: 0.9376\n",
            "Epoch 53/100\n",
            "307/307 [==============================] - 1s 2ms/step - loss: 0.1838 - accuracy: 0.9322 - val_loss: 0.3278 - val_accuracy: 0.9247\n",
            "Epoch 54/100\n",
            "307/307 [==============================] - 1s 2ms/step - loss: 0.1878 - accuracy: 0.9316 - val_loss: 0.2645 - val_accuracy: 0.9256\n",
            "Epoch 55/100\n",
            "307/307 [==============================] - 1s 2ms/step - loss: 0.1843 - accuracy: 0.9353 - val_loss: 0.3098 - val_accuracy: 0.9275\n",
            "Epoch 56/100\n",
            "307/307 [==============================] - 1s 2ms/step - loss: 0.1854 - accuracy: 0.9351 - val_loss: 0.2509 - val_accuracy: 0.9320\n",
            "Epoch 57/100\n",
            "307/307 [==============================] - 1s 2ms/step - loss: 0.1813 - accuracy: 0.9341 - val_loss: 0.2706 - val_accuracy: 0.9275\n",
            "Epoch 58/100\n",
            "307/307 [==============================] - 1s 2ms/step - loss: 0.1830 - accuracy: 0.9316 - val_loss: 0.2214 - val_accuracy: 0.9238\n",
            "Epoch 59/100\n",
            "307/307 [==============================] - 1s 2ms/step - loss: 0.1884 - accuracy: 0.9317 - val_loss: 0.2319 - val_accuracy: 0.9275\n",
            "Epoch 60/100\n",
            "307/307 [==============================] - 1s 2ms/step - loss: 0.2139 - accuracy: 0.9316 - val_loss: 0.2557 - val_accuracy: 0.9275\n",
            "Epoch 61/100\n",
            "307/307 [==============================] - 1s 2ms/step - loss: 0.1831 - accuracy: 0.9344 - val_loss: 0.2784 - val_accuracy: 0.9192\n",
            "Epoch 62/100\n",
            "307/307 [==============================] - 1s 2ms/step - loss: 0.1879 - accuracy: 0.9340 - val_loss: 0.2541 - val_accuracy: 0.9302\n",
            "Epoch 63/100\n",
            "307/307 [==============================] - 1s 2ms/step - loss: 0.1824 - accuracy: 0.9325 - val_loss: 0.2441 - val_accuracy: 0.9293\n",
            "Epoch 64/100\n",
            "307/307 [==============================] - 1s 2ms/step - loss: 0.1811 - accuracy: 0.9361 - val_loss: 0.2990 - val_accuracy: 0.9210\n",
            "Epoch 65/100\n",
            "307/307 [==============================] - 1s 2ms/step - loss: 0.1890 - accuracy: 0.9330 - val_loss: 0.2388 - val_accuracy: 0.9302\n",
            "Epoch 66/100\n",
            "307/307 [==============================] - 1s 2ms/step - loss: 0.1780 - accuracy: 0.9325 - val_loss: 0.2519 - val_accuracy: 0.9284\n",
            "Epoch 67/100\n",
            "307/307 [==============================] - 1s 2ms/step - loss: 0.1784 - accuracy: 0.9347 - val_loss: 0.2917 - val_accuracy: 0.9247\n",
            "Epoch 68/100\n",
            "307/307 [==============================] - 1s 2ms/step - loss: 0.1771 - accuracy: 0.9351 - val_loss: 0.2839 - val_accuracy: 0.9265\n",
            "Epoch 69/100\n",
            "307/307 [==============================] - 1s 2ms/step - loss: 0.1799 - accuracy: 0.9344 - val_loss: 0.2664 - val_accuracy: 0.9247\n",
            "Epoch 70/100\n",
            "307/307 [==============================] - 1s 2ms/step - loss: 0.1777 - accuracy: 0.9352 - val_loss: 0.2943 - val_accuracy: 0.9293\n",
            "Epoch 71/100\n",
            "307/307 [==============================] - 1s 2ms/step - loss: 0.1727 - accuracy: 0.9372 - val_loss: 0.3749 - val_accuracy: 0.9284\n",
            "Epoch 72/100\n",
            "307/307 [==============================] - 1s 2ms/step - loss: 0.1784 - accuracy: 0.9362 - val_loss: 0.3114 - val_accuracy: 0.9265\n",
            "Epoch 73/100\n",
            "307/307 [==============================] - 1s 2ms/step - loss: 0.1725 - accuracy: 0.9358 - val_loss: 0.3078 - val_accuracy: 0.9275\n",
            "Epoch 74/100\n",
            "307/307 [==============================] - 1s 2ms/step - loss: 0.1826 - accuracy: 0.9355 - val_loss: 0.2677 - val_accuracy: 0.9339\n",
            "Epoch 75/100\n",
            "307/307 [==============================] - 1s 2ms/step - loss: 0.1723 - accuracy: 0.9363 - val_loss: 0.2985 - val_accuracy: 0.9265\n",
            "Epoch 76/100\n",
            "307/307 [==============================] - 1s 2ms/step - loss: 0.1808 - accuracy: 0.9341 - val_loss: 0.2523 - val_accuracy: 0.9320\n",
            "Epoch 77/100\n",
            "307/307 [==============================] - 1s 2ms/step - loss: 0.1827 - accuracy: 0.9324 - val_loss: 0.2651 - val_accuracy: 0.9219\n",
            "Epoch 78/100\n",
            "307/307 [==============================] - 1s 2ms/step - loss: 0.1869 - accuracy: 0.9324 - val_loss: 0.2779 - val_accuracy: 0.9293\n",
            "Epoch 79/100\n",
            "307/307 [==============================] - 1s 2ms/step - loss: 0.1780 - accuracy: 0.9363 - val_loss: 0.3532 - val_accuracy: 0.9201\n",
            "Epoch 80/100\n",
            "307/307 [==============================] - 1s 2ms/step - loss: 0.1928 - accuracy: 0.9346 - val_loss: 0.3429 - val_accuracy: 0.9293\n",
            "Epoch 81/100\n",
            "307/307 [==============================] - 1s 2ms/step - loss: 0.2038 - accuracy: 0.9322 - val_loss: 0.3327 - val_accuracy: 0.9219\n",
            "Epoch 82/100\n",
            "307/307 [==============================] - 1s 2ms/step - loss: 0.1701 - accuracy: 0.9373 - val_loss: 0.3592 - val_accuracy: 0.9201\n",
            "Epoch 83/100\n",
            "307/307 [==============================] - 1s 2ms/step - loss: 0.1740 - accuracy: 0.9360 - val_loss: 0.3508 - val_accuracy: 0.9293\n",
            "Epoch 84/100\n",
            "307/307 [==============================] - 1s 2ms/step - loss: 0.1709 - accuracy: 0.9371 - val_loss: 0.3189 - val_accuracy: 0.9320\n",
            "Epoch 85/100\n",
            "307/307 [==============================] - 1s 2ms/step - loss: 0.1737 - accuracy: 0.9379 - val_loss: 0.3263 - val_accuracy: 0.9238\n",
            "Epoch 86/100\n",
            "307/307 [==============================] - 1s 2ms/step - loss: 0.1816 - accuracy: 0.9341 - val_loss: 0.3053 - val_accuracy: 0.9174\n",
            "Epoch 87/100\n",
            "307/307 [==============================] - 1s 2ms/step - loss: 0.1811 - accuracy: 0.9338 - val_loss: 0.2758 - val_accuracy: 0.9238\n",
            "Epoch 88/100\n",
            "307/307 [==============================] - 1s 2ms/step - loss: 0.1768 - accuracy: 0.9375 - val_loss: 0.3250 - val_accuracy: 0.9229\n",
            "Epoch 89/100\n",
            "307/307 [==============================] - 1s 2ms/step - loss: 0.1881 - accuracy: 0.9327 - val_loss: 0.3236 - val_accuracy: 0.9293\n",
            "Epoch 90/100\n",
            "307/307 [==============================] - 1s 2ms/step - loss: 0.1728 - accuracy: 0.9364 - val_loss: 0.3270 - val_accuracy: 0.9284\n",
            "Epoch 91/100\n",
            "307/307 [==============================] - 1s 2ms/step - loss: 0.1718 - accuracy: 0.9362 - val_loss: 0.3436 - val_accuracy: 0.9238\n",
            "Epoch 92/100\n",
            "307/307 [==============================] - 1s 2ms/step - loss: 0.1729 - accuracy: 0.9371 - val_loss: 0.3117 - val_accuracy: 0.9275\n",
            "Epoch 93/100\n",
            "307/307 [==============================] - 1s 2ms/step - loss: 0.1693 - accuracy: 0.9384 - val_loss: 0.3598 - val_accuracy: 0.9265\n",
            "Epoch 94/100\n",
            "307/307 [==============================] - 1s 2ms/step - loss: 0.1827 - accuracy: 0.9350 - val_loss: 0.3568 - val_accuracy: 0.9201\n",
            "Epoch 95/100\n",
            "307/307 [==============================] - 1s 2ms/step - loss: 0.1982 - accuracy: 0.9307 - val_loss: 0.2978 - val_accuracy: 0.9265\n",
            "Epoch 96/100\n",
            "307/307 [==============================] - 1s 2ms/step - loss: 0.1728 - accuracy: 0.9375 - val_loss: 0.3190 - val_accuracy: 0.9293\n",
            "Epoch 97/100\n",
            "307/307 [==============================] - 1s 2ms/step - loss: 0.1724 - accuracy: 0.9362 - val_loss: 0.3554 - val_accuracy: 0.9348\n",
            "Epoch 98/100\n",
            "307/307 [==============================] - 1s 2ms/step - loss: 0.1735 - accuracy: 0.9375 - val_loss: 0.4033 - val_accuracy: 0.9275\n",
            "Epoch 99/100\n",
            "307/307 [==============================] - 1s 2ms/step - loss: 0.1883 - accuracy: 0.9331 - val_loss: 0.3959 - val_accuracy: 0.9247\n",
            "Epoch 100/100\n",
            "307/307 [==============================] - 1s 2ms/step - loss: 0.1726 - accuracy: 0.9365 - val_loss: 0.3662 - val_accuracy: 0.9192\n"
          ]
        }
      ]
    },
    {
      "cell_type": "code",
      "source": [
        "history =  history.history"
      ],
      "metadata": {
        "id": "9Q4VMnPQ5o-f"
      },
      "execution_count": 129,
      "outputs": []
    },
    {
      "cell_type": "code",
      "source": [
        "plt.figure(figsize=(15,5))\n",
        "plt.subplot(121)\n",
        "plt.title(\"Accuracy\")\n",
        "plt.plot(history[\"accuracy\"],label=\"train acc\")\n",
        "plt.plot(history[\"val_accuracy\"],label=\"val acc\")\n",
        "plt.legend()\n",
        "\n",
        "plt.subplot(122)\n",
        "plt.title(\"Loss\")\n",
        "plt.plot(history[\"loss\"],label=\"train loss\")\n",
        "plt.plot(history[\"val_loss\"],label=\"val loss\")\n",
        "plt.legend()\n",
        "\n",
        "plt.show()"
      ],
      "metadata": {
        "colab": {
          "base_uri": "https://localhost:8080/",
          "height": 336
        },
        "id": "0X9imjzq71fS",
        "outputId": "4b78dfa3-639d-42af-fedd-62bef6fd2a29"
      },
      "execution_count": 130,
      "outputs": [
        {
          "output_type": "display_data",
          "data": {
            "text/plain": [
              "<Figure size 1080x360 with 2 Axes>"
            ],
            "image/png": "[encoded data removed]"
          },
          "metadata": {
            "needs_background": "light"
          }
        }
      ]
    },
    {
      "cell_type": "code",
      "source": [
        "loss ,accuracy = model.evaluate(test_dataset)\n"
      ],
      "metadata": {
        "colab": {
          "base_uri": "https://localhost:8080/"
        },
        "id": "bbISmbT-72MO",
        "outputId": "a0fd3c5b-d45e-4874-857f-3409e98eba97"
      },
      "execution_count": 131,
      "outputs": [
        {
          "output_type": "stream",
          "name": "stdout",
          "text": [
            "43/43 [==============================] - 0s 2ms/step - loss: 0.2895 - accuracy: 0.9181\n"
          ]
        }
      ]
    },
    {
      "cell_type": "code",
      "source": [
        ""
      ],
      "metadata": {
        "id": "mpK6DfedEM1V"
      },
      "execution_count": null,
      "outputs": []
    }
  ]
}